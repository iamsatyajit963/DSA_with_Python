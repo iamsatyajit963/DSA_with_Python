{
 "cells": [
  {
   "cell_type": "code",
   "execution_count": 2,
   "id": "7d768281",
   "metadata": {},
   "outputs": [],
   "source": [
    "import numpy as np\n",
    "from PIL import Image"
   ]
  },
  {
   "cell_type": "code",
   "execution_count": 10,
   "id": "89a073e7",
   "metadata": {},
   "outputs": [],
   "source": [
    "# Read in the image and convert it to a NumPy array\n",
    "img = Image.open('D:/Satyajit/GitProjects/Projects/source/ballons.jpg')\n",
    "img_arr = np.array(img)"
   ]
  },
  {
   "cell_type": "markdown",
   "id": "34130613",
   "metadata": {},
   "source": [
    "##### How RGB and Grayscale Images Are Represented in NumPy Arrays\n",
    "###### https://towardsdatascience.com/exploring-the-mnist-digits-dataset-7ff62631766a"
   ]
  },
  {
   "cell_type": "code",
   "execution_count": 11,
   "id": "3354a3a4",
   "metadata": {},
   "outputs": [],
   "source": [
    "# Perform operations on the NumPy array to modify the image\n",
    "# Example: Convert the image to grayscale\n",
    "img_arr_gray = np.mean(img_arr, axis=2, dtype=np.uint8)\n",
    "\n",
    "# Save the modified image as a new file\n",
    "img_gray = Image.fromarray(img_arr_gray)\n",
    "img_gray.save('D:/Satyajit/GitProjects/Projects/target/ballons_grey.jpg')"
   ]
  },
  {
   "cell_type": "code",
   "execution_count": null,
   "id": "b4fb193d",
   "metadata": {},
   "outputs": [],
   "source": []
  }
 ],
 "metadata": {
  "kernelspec": {
   "display_name": "Python 3.8.5 64-bit",
   "language": "python",
   "name": "python3"
  },
  "language_info": {
   "codemirror_mode": {
    "name": "ipython",
    "version": 3
   },
   "file_extension": ".py",
   "mimetype": "text/x-python",
   "name": "python",
   "nbconvert_exporter": "python",
   "pygments_lexer": "ipython3",
   "version": "3.8.5"
  },
  "vscode": {
   "interpreter": {
    "hash": "2469a70536e4d2335a2ea8907942d0699c37342a371ac185bdb5b0aa6f073890"
   }
  }
 },
 "nbformat": 4,
 "nbformat_minor": 5
}
